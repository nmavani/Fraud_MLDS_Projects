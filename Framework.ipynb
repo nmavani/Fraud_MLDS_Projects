{
 "cells": [
  {
   "cell_type": "markdown",
   "id": "20c31c77",
   "metadata": {},
   "source": [
    "### This is a framework that will pull Dumbo signal values for payments in SQL table. It will also help in creating rules by iterating over signals and measuring the precision and recall for the rule."
   ]
  },
  {
   "cell_type": "code",
   "execution_count": 1,
   "id": "f7d898b4",
   "metadata": {},
   "outputs": [
    {
     "name": "stderr",
     "output_type": "stream",
     "text": [
      "/usr/local/lib/python3.7/dist-packages/snowflake/connector/options.py:97: UserWarning: You have an incompatible version of 'pyarrow' installed (4.0.1), please install a version that adheres to: 'pyarrow<3.1.0,>=3.0.0; extra == \"pandas\"'\n",
      "  _expected_pyarrow_version,\n"
     ]
    }
   ],
   "source": [
    "import pandas as pd\n",
    "import numpy as np\n",
    "\n",
    "#from pydumbo import merchant_signals as MerchantSignals\n",
    "from kplib.dumbo import Dumbo, DataframeInput, FeatureOptions,EvaluationOptions, FileInput\n",
    "\n",
    "from sklearn.metrics import euclidean_distances\n",
    "from sklearn.pipeline import Pipeline\n",
    "from sklearn.feature_selection import VarianceThreshold\n",
    "from sklearn.impute import SimpleImputer\n",
    "import sklearn.preprocessing\n",
    "from sklearn.preprocessing import StandardScaler\n",
    "from scipy.stats import ks_2samp\n",
    "\n",
    "from pysnowflake.simple import Session\n",
    "from pysnowflake.utils import retrieve_query\n",
    "from pysnowflake.utils import write_df_to_snowflake\n",
    "\n",
    "import matplotlib.pyplot as plt\n",
    "import seaborn as sns\n",
    "from datetime import datetime, timedelta\n",
    "\n",
    "import json\n",
    "#import RiskarbiterService\n",
    "#from pyriskarbiter.services.riskarbiter import RiskarbiterService\n",
    "#from tqdm import tqdm\n",
    "\n",
    "\n",
    "from sklearn.model_selection import train_test_split #\n",
    "from sklearn.tree import DecisionTreeClassifier\n",
    "pd.options.display.max_columns = 25\n",
    "pd.options.display.max_rows = 25\n",
    "pd.set_option('display.float_format', '{:.2f}'.format)\n",
    "\n",
    "from sklearn import metrics\n",
    "import blocks\n",
    "from blocks.filesystem import GCSFileSystem\n",
    "\n",
    "pd.options.display.max_rows = 4000"
   ]
  },
  {
   "cell_type": "code",
   "execution_count": null,
   "id": "8fb06429",
   "metadata": {},
   "outputs": [],
   "source": [
    "## pull the data from table and store it in your folder in ds-risk-prod-snowstage\n",
    "with Session(app_name=\"APP_RISK\") as ss:\n",
    "    \n",
    "    df = ss.download(\n",
    "        table = \"APP_RISK.APP_RISK_TEST.invoice_payments_june_july_2021\",\n",
    "        #path=\"gs://ds-risk-prod-snowstage/nmavani/invoice_0721/data_snowflake/\",\n",
    "        path = ''\n",
    "    )"
   ]
  },
  {
   "cell_type": "code",
   "execution_count": null,
   "id": "c24071ca",
   "metadata": {},
   "outputs": [],
   "source": [
    "## add the list of signals you want to pull dumbo values for \n",
    "signallist = ['total_invoice_payment_success_count_by_email_from_invoice_buyer_email', #repeat emails used\n",
    "'total_invoice_success_count_by_merchant_from_payment_merchant', # total invoice count\n",
    "'invoices_sent_via_email_count_by_unit_token_from_payment_merchant',\n",
    "'lev_distance_between_invoice_payer_and_cardholder_name_by_id_from_payment',\n",
    "]"
   ]
  },
  {
   "cell_type": "code",
   "execution_count": null,
   "id": "59ee1c80",
   "metadata": {},
   "outputs": [],
   "source": [
    "## call the dumbo to get signal values\n",
    "df_features_new = Dumbo().get_features(\n",
    "        entity=\"REGISTER_PAYMENT\",\n",
    "    # pulling the data from stored location\n",
    "        input_query=FileInput(\"gs://ds-risk-prod-snowstage/nmavani/invoice_0721/data_snowflake/\", token_col=\"PAYMENT_TOKEN\"),\n",
    "    # storing the dumbo values in gcs\n",
    "        output_path=\"gs://ds-risk-prod-snowstage/nmavani/invoice_0721/data_dumbo\",\n",
    "        feature_options=FeatureOptions(\n",
    "            features=signallist, \n",
    "            include_for_rules_only=True,\n",
    "            include_deprecated=False,\n",
    "\n",
    "        ),\n",
    "        evaluation_options=EvaluationOptions(\n",
    "            acl_reasons=[\"risk\"]),\n",
    "    )"
   ]
  },
  {
   "cell_type": "code",
   "execution_count": 2,
   "id": "7936f25b",
   "metadata": {},
   "outputs": [],
   "source": [
    "## pull the dumbo signals in data frame\n",
    "df_features = blocks.assemble('gs://ds-risk-prod-snowstage/nmavani/invoice_0721/data_dumbo/results')"
   ]
  },
  {
   "cell_type": "code",
   "execution_count": null,
   "id": "38ec4e8a",
   "metadata": {},
   "outputs": [],
   "source": [
    "df_features.columns"
   ]
  },
  {
   "cell_type": "code",
   "execution_count": null,
   "id": "cd65c61f",
   "metadata": {},
   "outputs": [],
   "source": [
    "df_features.shape"
   ]
  },
  {
   "cell_type": "code",
   "execution_count": null,
   "id": "75cdd2ac",
   "metadata": {},
   "outputs": [],
   "source": [
    "# check for missing values in dumbo signals\n",
    "print((df_features.isna().sum()*100/df_features['PAYMENT_TOKEN'].count()).sort_values())"
   ]
  },
  {
   "cell_type": "code",
   "execution_count": null,
   "id": "6da48543",
   "metadata": {},
   "outputs": [],
   "source": [
    "# exploratory analysis for the field values\n",
    "df_features.describe().T"
   ]
  },
  {
   "cell_type": "code",
   "execution_count": null,
   "id": "5b611ffe",
   "metadata": {},
   "outputs": [],
   "source": [
    "## create features\n",
    "import operator\n",
    "\n",
    "def features(signal, df, threshold, sign, columnname=None):\n",
    "    operatorlookup = {\n",
    "    '+': operator.add,\n",
    "    '-': operator.sub,\n",
    "    '*': operator.mul,\n",
    "    '/': operator.truediv,\n",
    "    '>': operator.gt,\n",
    "    '>=': operator.ge,\n",
    "    '<': operator.lt,\n",
    "    '<=': operator.le\n",
    "    }\n",
    "    op = operatorlookup.get(sign)\n",
    "    if columnname is not None:\n",
    "        new_column = columnname\n",
    "    else:\n",
    "        new_column = sign + str(threshold) + signal\n",
    "    df[new_column] = df[signal].apply(lambda x: 1 if op(x, threshold) else 0)\n",
    "\n",
    "\n",
    "def features_multiple(signal1, signal2, df, threshold, sign,columnname=None):\n",
    "    operatorlookup = {\n",
    "    '+': operator.add,\n",
    "    '-': operator.sub,\n",
    "    '*': operator.mul,\n",
    "    '/': operator.truediv,\n",
    "    '>': operator.gt,\n",
    "    '>=': operator.ge,\n",
    "    '<': operator.lt,\n",
    "    '<=': operator.le\n",
    "    }\n",
    "    op = operatorlookup.get(sign)\n",
    "    \n",
    "    if columnname is not None:\n",
    "        new_column = columnname\n",
    "    else:\n",
    "        new_column = sign + str(threshold) + signal2\n",
    "        \n",
    "    #df[new_column] = df[signal1].apply(lambda x: 1 if op(x, threshold*df[signal2]) else 0)\n",
    "    df[new_column] = op(df[signal1], threshold*df[signal2])"
   ]
  },
  {
   "cell_type": "code",
   "execution_count": null,
   "id": "0992e3da",
   "metadata": {},
   "outputs": [],
   "source": [
    "# maintaining a copy\n",
    "df_features_new_way = df_features.copy()"
   ]
  },
  {
   "cell_type": "code",
   "execution_count": null,
   "id": "05e58b9b",
   "metadata": {},
   "outputs": [],
   "source": [
    "\n",
    "df_features_new_way['merchant_invoice_declined_1h'] = (df_features_new_way['invoice_declined_count_in_1h_by_merchant_from_payment_merchant'].gt(0) | \\\n",
    "                                                      df_features_new_way['invoice_on_file_declined_count_in_1h_by_merchant_from_payment_merchant'].gt(0))\n",
    "\n",
    "\n",
    "\n",
    "features('bin_streak_length_by_merchant_from_payment_merchant', df_features_new_way, 2, '>', '>2_bin_streak')\n",
    "features('auth_amount_streak_length_by_merchant_from_payment_merchant', df_features_new_way, 2, '>', '>2_auth_streak')\n",
    "features('bin_streak_length_by_merchant_from_payment_merchant', df_features_new_way, 3, '>', '>3_bin_streak')\n",
    "features('auth_amount_streak_length_by_merchant_from_payment_merchant', df_features_new_way, 3, '>', '>3_auth_streak')\n",
    "\n",
    "\n",
    "#EMAIL BASED SIGNALS\n",
    "\n",
    "\n",
    "features('total_invoice_payment_failed_count_by_email_from_invoice_buyer_email', df_features_new_way, 2, '>', 'gt_2_failed_by_email')\n",
    "\n",
    "\n",
    "#BROWSER FINGER PRINT BASED SIGNALS\n",
    "\n",
    "features('auth_amount_streak_length_by_browser_fingerprint_from_payment_browser_fingerprint', df_features_new_way, 2, '>', 'auth_streak_by_bfp')\n",
    "\n",
    "features('bin_streak_length_by_browser_fingerprint_from_payment_browser_fingerprint', df_features_new_way, 2, '>', 'bin_streak_by_bfp')\n",
    "\n",
    "features('total_declined_count_by_browser_fingerprint_from_payment_browser_fingerprint', df_features_new_way, 2, '>', 'gt_2_declined_by_bfp')\n",
    "\n",
    "features('total_count_in_10min_by_browser_fingerprint_from_payment_browser_fingerprint', df_features_new_way, 2, '>', 'gt_1_payment_by_bfp')\n",
    "\n",
    "features('unique_pans_declined_by_browser_fingerprint_from_payment_browser_fingerprint', df_features_new_way, 2, '>', 'gt_1_pan_declined_by_bfp')\n",
    "\n",
    "\n",
    "\n",
    "features('CHARGEBACKS_USD', df_features_new_way, 0, '>')\n",
    "#features('SCORE', df_features_new_way, 0.01, '>=', 'model_score')\n",
    "features('probability_bf_global_invoice_over100', df_features_new_way, 0.9, '>=', 'model_score')\n",
    "\n",
    "df_features_new_way['suspected'] = df_features_new_way['IS_SUSPECTED'] == True\n",
    "df_features_new_way['cased'] = df_features_new_way['IS_CASED'] == True\n",
    "df_features_new_way['AVS_mismatch'] = df_features_new_way.AUTH_AVS_STATUS == 'AVS_REJECTED'\n",
    "\n",
    "\n",
    "#COMBINED SIGNALS\n",
    "\n",
    "\n",
    "\n",
    "df_features_new_way['declined_by_bfp_and_email_and_merchant'] = (df_features_new_way.gt_2_declined_by_bfp |  df_features_new_way.gt_2_failed_by_email) & df_features_new_way.merchant_invoice_declined_1h\n",
    "df_features_new_way['bin_streak_or_auth_streak'] = df_features_new_way['>2_bin_streak'] | df_features_new_way['>2_auth_streak']\n",
    "df_features_new_way['bin_or_auth_streak_by_bfp'] = (df_features_new_way.bin_streak_by_bfp | df_features_new_way.auth_streak_by_bfp)\n",
    "df_features_new_way['bin_or_auth_and_decline'] = df_features_new_way['declined_by_bfp_and_email_and_merchant'] & df_features_new_way['bin_or_auth_streak_by_bfp']\n",
    "df_features_new_way['bin_or_auth_by_instrument_and_decline'] = df_features_new_way['declined_by_bfp_and_email_and_merchant'] & df_features_new_way['bin_streak_or_auth_streak']\n",
    "df_features_new_way['bin_or_auth_by_bfp_bin_streak_auth_streak_by_payment_and_decline'] = df_features_new_way['declined_by_bfp_and_email_and_merchant'] & df_features_new_way['bin_or_auth_streak_by_bfp'] & df_features_new_way['bin_streak_or_auth_streak']\n",
    "\n",
    "\n"
   ]
  },
  {
   "cell_type": "code",
   "execution_count": null,
   "id": "2b5c053c",
   "metadata": {},
   "outputs": [],
   "source": [
    "##drop redundant columns and group by using chargebacks and casese\n",
    "df_group =  df_features_new_way.drop(df_features_new_way.iloc[:, 3:65],axis=1).groupby(['>0CHARGEBACKS_USD', 'suspected']).sum().T"
   ]
  },
  {
   "cell_type": "code",
   "execution_count": null,
   "id": "b98eeec7",
   "metadata": {},
   "outputs": [],
   "source": [
    "## get recall and precision, total payments suspected and incremental payments suspected\n",
    "columns= ('recall%', 'precision%', 'total_payments', 'incremental_payments_suspected', 'incremental_chargebacks_suspected')\n",
    "df_pr_recall = pd.DataFrame(index=df_group.T.columns, columns=columns)\n",
    "\n",
    " ##recall  (chargebacks detected of total chargebacks)\n",
    "df_pr_recall['recall%']=(df_group[1][True]+df_group[1][False])*100/sum(df_features_new_way['IS_CHARGRBACKED']==1)\n",
    "\n",
    " ##precision (charegacks detected of all payments flagged)\n",
    "df_pr_recall['precision%'] = (df_group[1][True]+df_group[1][False])/(df_group[1][True]+df_group[1][False]+df_group[0][True]+df_group[0][False])*100\n",
    "\n",
    "\n",
    "df_pr_recall['total_payments'] = df_group[1][True]+df_group[1][False]+df_group[0][True]+df_group[0][False]\n",
    "df_pr_recall['incremental_payments_suspected'] = (df_group[0][False]+df_group[1][False])\n",
    "df_pr_recall['incremental_chargebacks_suspected'] = df_group[1][False]\n",
    "\n",
    "\n",
    "df_pr_recall.sort_values(by=['recall%'])\n"
   ]
  }
 ],
 "metadata": {
  "kernelspec": {
   "display_name": "Python 3 (ipykernel)",
   "language": "python",
   "name": "python3"
  },
  "language_info": {
   "codemirror_mode": {
    "name": "ipython",
    "version": 3
   },
   "file_extension": ".py",
   "mimetype": "text/x-python",
   "name": "python",
   "nbconvert_exporter": "python",
   "pygments_lexer": "ipython3",
   "version": "3.7.5"
  }
 },
 "nbformat": 4,
 "nbformat_minor": 5
}
